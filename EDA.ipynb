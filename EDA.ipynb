{
 "cells": [
  {
   "cell_type": "code",
   "execution_count": 1,
   "metadata": {},
   "outputs": [],
   "source": [
    "import os\n",
    "import torch\n",
    "import pandas as pd\n",
    "\n",
    "PATH = \"./dataset/\"\n",
    "\n",
    "train_df = pd.read_csv(os.path.join(PATH, \"train_set.csv\"))\n",
    "test_df = pd.read_csv(os.path.join(PATH, \"test_set.csv\"))"
   ]
  },
  {
   "cell_type": "code",
   "execution_count": 2,
   "metadata": {},
   "outputs": [
    {
     "data": {
      "text/html": [
       "<div>\n",
       "<style scoped>\n",
       "    .dataframe tbody tr th:only-of-type {\n",
       "        vertical-align: middle;\n",
       "    }\n",
       "\n",
       "    .dataframe tbody tr th {\n",
       "        vertical-align: top;\n",
       "    }\n",
       "\n",
       "    .dataframe thead th {\n",
       "        text-align: right;\n",
       "    }\n",
       "</style>\n",
       "<table border=\"1\" class=\"dataframe\">\n",
       "  <thead>\n",
       "    <tr style=\"text-align: right;\">\n",
       "      <th></th>\n",
       "      <th>index</th>\n",
       "      <th>SMILES</th>\n",
       "      <th>Reorg_g</th>\n",
       "      <th>Reorg_ex</th>\n",
       "    </tr>\n",
       "  </thead>\n",
       "  <tbody>\n",
       "    <tr>\n",
       "      <th>0</th>\n",
       "      <td>train_0</td>\n",
       "      <td>CC[C@H]1CCCCN1C(=O)[C@@H](C)OC(=O)c1c(C)oc(-n2...</td>\n",
       "      <td>0.631486</td>\n",
       "      <td>0.535060</td>\n",
       "    </tr>\n",
       "    <tr>\n",
       "      <th>1</th>\n",
       "      <td>train_1</td>\n",
       "      <td>O[C@@H](CNC1CC1)CN1CCc2sccc2C1</td>\n",
       "      <td>0.825901</td>\n",
       "      <td>1.116781</td>\n",
       "    </tr>\n",
       "    <tr>\n",
       "      <th>2</th>\n",
       "      <td>train_2</td>\n",
       "      <td>N#CCCNC(=O)[C@@]1(O)CCSC1</td>\n",
       "      <td>1.463943</td>\n",
       "      <td>0.964848</td>\n",
       "    </tr>\n",
       "    <tr>\n",
       "      <th>3</th>\n",
       "      <td>train_3</td>\n",
       "      <td>COC[C@H]1CN(c2ccc(OCC[C@@H](C)O)cc2)C(=O)O1</td>\n",
       "      <td>0.166669</td>\n",
       "      <td>0.161458</td>\n",
       "    </tr>\n",
       "    <tr>\n",
       "      <th>4</th>\n",
       "      <td>train_4</td>\n",
       "      <td>N#Cc1c(-c2ccccc2OCC(N)=O)[nH]c(C(N)=O)c1N</td>\n",
       "      <td>0.313820</td>\n",
       "      <td>0.338862</td>\n",
       "    </tr>\n",
       "  </tbody>\n",
       "</table>\n",
       "</div>"
      ],
      "text/plain": [
       "     index                                             SMILES   Reorg_g  \\\n",
       "0  train_0  CC[C@H]1CCCCN1C(=O)[C@@H](C)OC(=O)c1c(C)oc(-n2...  0.631486   \n",
       "1  train_1                     O[C@@H](CNC1CC1)CN1CCc2sccc2C1  0.825901   \n",
       "2  train_2                          N#CCCNC(=O)[C@@]1(O)CCSC1  1.463943   \n",
       "3  train_3        COC[C@H]1CN(c2ccc(OCC[C@@H](C)O)cc2)C(=O)O1  0.166669   \n",
       "4  train_4          N#Cc1c(-c2ccccc2OCC(N)=O)[nH]c(C(N)=O)c1N  0.313820   \n",
       "\n",
       "   Reorg_ex  \n",
       "0  0.535060  \n",
       "1  1.116781  \n",
       "2  0.964848  \n",
       "3  0.161458  \n",
       "4  0.338862  "
      ]
     },
     "execution_count": 2,
     "metadata": {},
     "output_type": "execute_result"
    }
   ],
   "source": [
    "train_df.head()"
   ]
  },
  {
   "cell_type": "code",
   "execution_count": 3,
   "metadata": {},
   "outputs": [
    {
     "name": "stdout",
     "output_type": "stream",
     "text": [
      "0 C\n",
      "1 C\n",
      "2 C\n",
      "3 C\n",
      "4 C\n",
      "5 C\n",
      "6 C\n",
      "7 N\n",
      "8 C\n",
      "9 O\n",
      "10 C\n",
      "11 C\n",
      "12 O\n",
      "13 C\n",
      "14 O\n",
      "15 C\n",
      "16 C\n",
      "17 C\n",
      "18 O\n",
      "19 C\n",
      "20 N\n",
      "21 C\n",
      "22 C\n",
      "23 C\n",
      "24 C\n",
      "25 C\n",
      "26 C\n",
      "27 N\n",
      "28 H\n",
      "29 H\n",
      "30 H\n",
      "31 H\n",
      "32 H\n",
      "33 H\n",
      "34 H\n",
      "35 H\n",
      "36 H\n",
      "37 H\n",
      "38 H\n",
      "39 H\n",
      "40 H\n",
      "41 H\n",
      "42 H\n",
      "43 H\n",
      "44 H\n",
      "45 H\n",
      "46 H\n",
      "47 H\n",
      "48 H\n",
      "49 H\n",
      "50 H\n",
      "51 H\n",
      "52 H\n"
     ]
    }
   ],
   "source": [
    "from rdkit import Chem\n",
    "from rdkit.Chem import Descriptors\n",
    "from sklearn.preprocessing import scale\n",
    "from tqdm.auto import tqdm\n",
    "import glob2, os\n",
    "import numpy as np\n",
    "\n",
    "path = os.path.join(\"./dataset\", \"mol_files\", \"train_set\")\n",
    "mol_file_path_lst = sorted(glob2.glob(os.path.join(path,\"*.mol\")))\n",
    "mol = Chem.MolFromMolFile(mol_file_path_lst[0], removeHs = False, sanitize = True)\n",
    "\n",
    "atoms=[a for a in mol.GetAtoms()]\n",
    "for a in atoms:\n",
    "    print( a.GetIdx(), a.GetSymbol() )"
   ]
  },
  {
   "cell_type": "code",
   "execution_count": 4,
   "metadata": {},
   "outputs": [
    {
     "name": "stdout",
     "output_type": "stream",
     "text": [
      "\n",
      "     RDKit          3D\n",
      "\n",
      " 53 55  0  0  0  0  0  0  0  0999 V2000\n",
      "    3.0263   -2.3512    0.5507 C   0  0  0  0  0  0  0  0  0  0  0  0\n",
      "    3.4398   -0.9997    1.1366 C   0  0  0  0  0  0  0  0  0  0  0  0\n",
      "    3.3570    0.1784    0.1392 C   0  0  1  0  0  0  0  0  0  0  0  0\n",
      "    1.9344    0.5133   -0.3583 C   0  0  0  0  0  0  0  0  0  0  0  0\n",
      "    1.0782    1.2336    0.6877 C   0  0  0  0  0  0  0  0  0  0  0  0\n",
      "    1.8074    2.4846    1.1839 C   0  0  0  0  0  0  0  0  0  0  0  0\n",
      "    3.2042    2.1347    1.6952 C   0  0  0  0  0  0  0  0  0  0  0  0\n",
      "    3.9824    1.3938    0.6950 N   0  0  0  0  0  0  0  0  0  0  0  0\n",
      "    5.3098    1.7286    0.5618 C   0  0  0  0  0  0  0  0  0  0  0  0\n",
      "    5.8180    2.6625    1.1588 O   0  0  0  0  0  0  0  0  0  0  0  0\n",
      "    6.1704    0.9343   -0.4511 C   0  0  1  0  0  0  0  0  0  0  0  0\n",
      "    6.1652    1.6104   -1.8172 C   0  0  0  0  0  0  0  0  0  0  0  0\n",
      "    7.5285    0.9327   -0.0090 O   0  0  0  0  0  0  0  0  0  0  0  0\n",
      "    7.8120    0.2595    1.1172 C   0  0  0  0  0  0  0  0  0  0  0  0\n",
      "    6.9822   -0.3964    1.7203 O   0  0  0  0  0  0  0  0  0  0  0  0\n",
      "    9.2281    0.4129    1.4922 C   0  0  0  0  0  0  0  0  0  0  0  0\n",
      "    9.8016   -0.1651    2.6022 C   0  0  0  0  0  0  0  0  0  0  0  0\n",
      "    9.2703   -1.0451    3.6740 C   0  0  0  0  0  0  0  0  0  0  0  0\n",
      "   11.1211    0.1683    2.7004 O   0  0  0  0  0  0  0  0  0  0  0  0\n",
      "   11.3925    0.9913    1.6162 C   0  0  0  0  0  0  0  0  0  0  0  0\n",
      "   12.7385    1.4594    1.5293 N   0  0  0  0  0  0  0  0  0  0  0  0\n",
      "   13.7305    1.1952    2.4103 C   0  0  0  0  0  0  0  0  0  0  0  0\n",
      "   14.9480    1.8498    1.9842 C   0  0  0  0  0  0  0  0  0  0  0  0\n",
      "   14.6465    2.5109    0.8249 C   0  0  0  0  0  0  0  0  0  0  0  0\n",
      "   13.2508    2.2542    0.5515 C   0  0  0  0  0  0  0  0  0  0  0  0\n",
      "   10.2488    1.1895    0.7922 C   0  0  0  0  0  0  0  0  0  0  0  0\n",
      "   10.1913    1.9327   -0.3851 C   0  0  0  0  0  0  0  0  0  0  0  0\n",
      "   10.2808    2.5968   -1.3795 N   0  0  0  0  0  0  0  0  0  0  0  0\n",
      "    3.1962   -3.1596    1.2791 H   0  0  0  0  0  0  0  0  0  0  0  0\n",
      "    3.6136   -2.5959   -0.3511 H   0  0  0  0  0  0  0  0  0  0  0  0\n",
      "    1.9610   -2.3841    0.2703 H   0  0  0  0  0  0  0  0  0  0  0  0\n",
      "    4.4839   -1.0540    1.4846 H   0  0  0  0  0  0  0  0  0  0  0  0\n",
      "    2.8284   -0.7822    2.0290 H   0  0  0  0  0  0  0  0  0  0  0  0\n",
      "    3.9278   -0.1128   -0.7528 H   0  0  0  0  0  0  0  0  0  0  0  0\n",
      "    1.4427   -0.4108   -0.7005 H   0  0  0  0  0  0  0  0  0  0  0  0\n",
      "    2.0296    1.1638   -1.2452 H   0  0  0  0  0  0  0  0  0  0  0  0\n",
      "    0.8733    0.5613    1.5402 H   0  0  0  0  0  0  0  0  0  0  0  0\n",
      "    0.0972    1.4948    0.2574 H   0  0  0  0  0  0  0  0  0  0  0  0\n",
      "    1.2412    2.9808    1.9897 H   0  0  0  0  0  0  0  0  0  0  0  0\n",
      "    1.8958    3.2125    0.3579 H   0  0  0  0  0  0  0  0  0  0  0  0\n",
      "    3.1226    1.5331    2.6208 H   0  0  0  0  0  0  0  0  0  0  0  0\n",
      "    3.7830    3.0308    1.9478 H   0  0  0  0  0  0  0  0  0  0  0  0\n",
      "    5.8377   -0.1094   -0.5219 H   0  0  0  0  0  0  0  0  0  0  0  0\n",
      "    6.5190    2.6465   -1.7170 H   0  0  0  0  0  0  0  0  0  0  0  0\n",
      "    5.1497    1.6190   -2.2419 H   0  0  0  0  0  0  0  0  0  0  0  0\n",
      "    6.8376    1.0790   -2.5064 H   0  0  0  0  0  0  0  0  0  0  0  0\n",
      "    8.2049   -1.2308    3.4992 H   0  0  0  0  0  0  0  0  0  0  0  0\n",
      "    9.4008   -0.5745    4.6636 H   0  0  0  0  0  0  0  0  0  0  0  0\n",
      "    9.8110   -2.0072    3.6934 H   0  0  0  0  0  0  0  0  0  0  0  0\n",
      "   13.5433    0.5730    3.2822 H   0  0  0  0  0  0  0  0  0  0  0  0\n",
      "   15.8968    1.8010    2.5130 H   0  0  0  0  0  0  0  0  0  0  0  0\n",
      "   15.2950    3.1201    0.2001 H   0  0  0  0  0  0  0  0  0  0  0  0\n",
      "   12.6269    2.5982   -0.2734 H   0  0  0  0  0  0  0  0  0  0  0  0\n",
      "  1  2  1  0\n",
      "  1 29  1  0\n",
      "  1 30  1  0\n",
      "  1 31  1  0\n",
      "  2  3  1  0\n",
      "  2 32  1  0\n",
      "  2 33  1  0\n",
      "  3  4  1  0\n",
      "  3  8  1  0\n",
      "  3 34  1  6\n",
      "  4  5  1  0\n",
      "  4 35  1  0\n",
      "  4 36  1  0\n",
      "  5  6  1  0\n",
      "  5 37  1  0\n",
      "  5 38  1  0\n",
      "  6  7  1  0\n",
      "  6 39  1  0\n",
      "  6 40  1  0\n",
      "  7  8  1  0\n",
      "  7 41  1  0\n",
      "  7 42  1  0\n",
      "  8  9  1  0\n",
      "  9 10  2  0\n",
      "  9 11  1  0\n",
      " 11 12  1  0\n",
      " 11 13  1  0\n",
      " 11 43  1  6\n",
      " 12 44  1  0\n",
      " 12 45  1  0\n",
      " 12 46  1  0\n",
      " 13 14  1  0\n",
      " 14 15  2  0\n",
      " 14 16  1  0\n",
      " 16 17  2  0\n",
      " 16 26  1  0\n",
      " 17 18  1  0\n",
      " 17 19  1  0\n",
      " 18 47  1  0\n",
      " 18 48  1  0\n",
      " 18 49  1  0\n",
      " 19 20  1  0\n",
      " 20 21  1  0\n",
      " 20 26  2  0\n",
      " 21 22  1  0\n",
      " 21 25  1  0\n",
      " 22 23  2  0\n",
      " 22 50  1  0\n",
      " 23 24  1  0\n",
      " 23 51  1  0\n",
      " 24 25  2  0\n",
      " 24 52  1  0\n",
      " 25 53  1  0\n",
      " 26 27  1  0\n",
      " 27 28  3  0\n",
      "M  END\n",
      "\n"
     ]
    }
   ],
   "source": [
    "from rdkit.Chem import AllChem\n",
    "print(AllChem.MolToMolBlock(mol))"
   ]
  },
  {
   "cell_type": "code",
   "execution_count": 5,
   "metadata": {},
   "outputs": [],
   "source": [
    "from rdkit import Chem, DataStructs\n",
    "from rdkit.Chem import Descriptors\n",
    "\n",
    "text = train_df.iloc[128]['SMILES']"
   ]
  },
  {
   "cell_type": "code",
   "execution_count": 6,
   "metadata": {},
   "outputs": [
    {
     "name": "stdout",
     "output_type": "stream",
     "text": [
      "d : 1.0, bond_type : SINGLE\n",
      "idx_i : 0, start : 0, end : 1\n",
      "d : 1.0, bond_type : SINGLE\n",
      "idx_i : 1, start : 0, end : 1\n",
      "d : 1.0, bond_type : AROMATIC\n",
      "idx_i : 1, start : 1, end : 2\n",
      "d : 1.0, bond_type : AROMATIC\n",
      "idx_i : 1, start : 31, end : 1\n",
      "d : 1.0, bond_type : AROMATIC\n",
      "idx_i : 2, start : 1, end : 2\n",
      "d : 1.0, bond_type : AROMATIC\n",
      "idx_i : 2, start : 2, end : 3\n",
      "d : 1.0, bond_type : AROMATIC\n",
      "idx_i : 3, start : 2, end : 3\n",
      "d : 1.0, bond_type : SINGLE\n",
      "idx_i : 3, start : 3, end : 4\n",
      "d : 1.0, bond_type : AROMATIC\n",
      "idx_i : 3, start : 3, end : 30\n",
      "d : 1.0, bond_type : SINGLE\n",
      "idx_i : 4, start : 3, end : 4\n",
      "d : 1.0, bond_type : AROMATIC\n",
      "idx_i : 4, start : 4, end : 5\n",
      "d : 1.0, bond_type : AROMATIC\n",
      "idx_i : 4, start : 28, end : 4\n",
      "d : 1.0, bond_type : AROMATIC\n",
      "idx_i : 5, start : 4, end : 5\n",
      "d : 1.0, bond_type : SINGLE\n",
      "idx_i : 5, start : 5, end : 6\n",
      "d : 1.0, bond_type : AROMATIC\n",
      "idx_i : 5, start : 5, end : 7\n",
      "d : 1.0, bond_type : SINGLE\n",
      "idx_i : 6, start : 5, end : 6\n",
      "d : 1.0, bond_type : AROMATIC\n",
      "idx_i : 7, start : 5, end : 7\n",
      "d : 1.0, bond_type : AROMATIC\n",
      "idx_i : 7, start : 7, end : 8\n",
      "d : 1.0, bond_type : AROMATIC\n",
      "idx_i : 8, start : 7, end : 8\n",
      "d : 1.0, bond_type : SINGLE\n",
      "idx_i : 8, start : 8, end : 9\n",
      "d : 1.0, bond_type : AROMATIC\n",
      "idx_i : 8, start : 8, end : 28\n",
      "d : 1.0, bond_type : SINGLE\n",
      "idx_i : 9, start : 8, end : 9\n",
      "d : 1.0, bond_type : DOUBLE\n",
      "idx_i : 9, start : 9, end : 10\n",
      "d : 1.0, bond_type : SINGLE\n",
      "idx_i : 9, start : 9, end : 11\n",
      "d : 1.0, bond_type : DOUBLE\n",
      "idx_i : 10, start : 9, end : 10\n",
      "d : 1.0, bond_type : SINGLE\n",
      "idx_i : 11, start : 9, end : 11\n",
      "d : 1.0, bond_type : SINGLE\n",
      "idx_i : 11, start : 11, end : 12\n",
      "d : 1.0, bond_type : SINGLE\n",
      "idx_i : 12, start : 11, end : 12\n",
      "d : 1.0, bond_type : SINGLE\n",
      "idx_i : 12, start : 12, end : 13\n",
      "d : 1.0, bond_type : SINGLE\n",
      "idx_i : 12, start : 27, end : 12\n",
      "d : 1.0, bond_type : SINGLE\n",
      "idx_i : 13, start : 12, end : 13\n",
      "d : 1.0, bond_type : SINGLE\n",
      "idx_i : 13, start : 13, end : 14\n",
      "d : 1.0, bond_type : SINGLE\n",
      "idx_i : 14, start : 13, end : 14\n",
      "d : 1.0, bond_type : SINGLE\n",
      "idx_i : 14, start : 14, end : 15\n",
      "d : 1.0, bond_type : SINGLE\n",
      "idx_i : 15, start : 14, end : 15\n",
      "d : 1.0, bond_type : SINGLE\n",
      "idx_i : 15, start : 15, end : 16\n",
      "d : 1.0, bond_type : SINGLE\n",
      "idx_i : 15, start : 15, end : 26\n",
      "d : 1.0, bond_type : SINGLE\n",
      "idx_i : 16, start : 15, end : 16\n",
      "d : 1.0, bond_type : AROMATIC\n",
      "idx_i : 16, start : 16, end : 17\n",
      "d : 1.0, bond_type : AROMATIC\n",
      "idx_i : 16, start : 25, end : 16\n",
      "d : 1.0, bond_type : AROMATIC\n",
      "idx_i : 17, start : 16, end : 17\n",
      "d : 1.0, bond_type : DOUBLE\n",
      "idx_i : 17, start : 17, end : 18\n",
      "d : 1.0, bond_type : AROMATIC\n",
      "idx_i : 17, start : 17, end : 19\n",
      "d : 1.0, bond_type : DOUBLE\n",
      "idx_i : 18, start : 17, end : 18\n",
      "d : 1.0, bond_type : AROMATIC\n",
      "idx_i : 19, start : 17, end : 19\n",
      "d : 1.0, bond_type : AROMATIC\n",
      "idx_i : 19, start : 19, end : 20\n",
      "d : 1.0, bond_type : AROMATIC\n",
      "idx_i : 20, start : 19, end : 20\n",
      "d : 1.0, bond_type : AROMATIC\n",
      "idx_i : 20, start : 20, end : 21\n",
      "d : 1.0, bond_type : AROMATIC\n",
      "idx_i : 20, start : 25, end : 20\n",
      "d : 1.0, bond_type : AROMATIC\n",
      "idx_i : 21, start : 20, end : 21\n",
      "d : 1.0, bond_type : AROMATIC\n",
      "idx_i : 21, start : 21, end : 22\n",
      "d : 1.0, bond_type : AROMATIC\n",
      "idx_i : 22, start : 21, end : 22\n",
      "d : 1.0, bond_type : AROMATIC\n",
      "idx_i : 22, start : 22, end : 23\n",
      "d : 1.0, bond_type : AROMATIC\n",
      "idx_i : 23, start : 22, end : 23\n",
      "d : 1.0, bond_type : AROMATIC\n",
      "idx_i : 23, start : 23, end : 24\n",
      "d : 1.0, bond_type : AROMATIC\n",
      "idx_i : 24, start : 23, end : 24\n",
      "d : 1.0, bond_type : AROMATIC\n",
      "idx_i : 24, start : 24, end : 25\n",
      "d : 1.0, bond_type : AROMATIC\n",
      "idx_i : 25, start : 24, end : 25\n",
      "d : 1.0, bond_type : AROMATIC\n",
      "idx_i : 25, start : 25, end : 16\n",
      "d : 1.0, bond_type : AROMATIC\n",
      "idx_i : 25, start : 25, end : 20\n",
      "d : 1.0, bond_type : SINGLE\n",
      "idx_i : 26, start : 15, end : 26\n",
      "d : 1.0, bond_type : SINGLE\n",
      "idx_i : 26, start : 26, end : 27\n",
      "d : 1.0, bond_type : SINGLE\n",
      "idx_i : 27, start : 26, end : 27\n",
      "d : 1.0, bond_type : SINGLE\n",
      "idx_i : 27, start : 27, end : 12\n",
      "d : 1.0, bond_type : AROMATIC\n",
      "idx_i : 28, start : 8, end : 28\n",
      "d : 1.0, bond_type : SINGLE\n",
      "idx_i : 28, start : 28, end : 29\n",
      "d : 1.0, bond_type : AROMATIC\n",
      "idx_i : 28, start : 28, end : 4\n",
      "d : 1.0, bond_type : SINGLE\n",
      "idx_i : 29, start : 28, end : 29\n",
      "d : 1.0, bond_type : AROMATIC\n",
      "idx_i : 30, start : 3, end : 30\n",
      "d : 1.0, bond_type : AROMATIC\n",
      "idx_i : 30, start : 30, end : 31\n",
      "d : 1.0, bond_type : AROMATIC\n",
      "idx_i : 31, start : 30, end : 31\n",
      "d : 1.0, bond_type : AROMATIC\n",
      "idx_i : 31, start : 31, end : 1\n"
     ]
    }
   ],
   "source": [
    "smiles = text\n",
    "mol = Chem.MolFromSmiles(smiles)\n",
    "adj = Chem.GetAdjacencyMatrix(mol)\n",
    "dist = Chem.GetDistanceMatrix(mol)\n",
    "\n",
    "for idx_i, atom in enumerate(mol.GetAtoms()):\n",
    "    for bond in atom.GetBonds():\n",
    "        start = bond.GetBeginAtomIdx()\n",
    "        end = bond.GetEndAtomIdx()\n",
    "        d = dist[start, end]\n",
    "        bond_type = bond.GetBondType().name\n",
    "        print(\"d : {}, bond_type : {}\".format(d, bond_type))\n",
    "        print(\"idx_i : {}, start : {}, end : {}\".format(idx_i, start, end))\n"
   ]
  },
  {
   "cell_type": "code",
   "execution_count": 13,
   "metadata": {},
   "outputs": [],
   "source": [
    "# analysis on trainset\n",
    "from tqdm.auto import tqdm\n",
    "\n",
    "atom_list = []\n",
    "atom_degree_list = []\n",
    "atom_numhs_list = []\n",
    "atom_valence_list = []\n",
    "atom_aromatic_list = []\n",
    "atom_ring_list = []\n",
    "atom_charge_list = []\n",
    "atom_hybrid_list = []\n",
    "\n",
    "bond_type_list = []\n",
    "bond_aromatic_list = []\n",
    "bond_conjugated_list = []\n",
    "bond_ring_list = []\n",
    "bond_stereo_list = []\n",
    "bond_dist_list = []\n",
    "\n",
    "for smiles in train_df['SMILES']:\n",
    "\n",
    "    mol = Chem.MolFromSmiles(smiles)\n",
    "    adj = Chem.GetAdjacencyMatrix(mol)\n",
    "    dist = Chem.GetDistanceMatrix(mol)\n",
    "\n",
    "    for idx_i, atom in enumerate(mol.GetAtoms()):\n",
    "        atom_list.append(atom.GetAtomicNum())\n",
    "        atom_degree_list.append(atom.GetDegree())\n",
    "        atom_numhs_list.append(atom.GetTotalNumHs())\n",
    "        atom_valence_list.append(atom.GetImplicitValence())\n",
    "        atom_aromatic_list.append(atom.GetIsAromatic())\n",
    "        atom_ring_list.append(atom.IsInRing())\n",
    "        atom_charge_list.append(atom.GetFormalCharge())\n",
    "        atom_hybrid_list.append(atom.GetHybridization())\n",
    "\n",
    "        for bond in atom.GetBonds():\n",
    "            start = bond.GetBeginAtomIdx()\n",
    "            end = bond.GetEndAtomIdx()\n",
    "            d = dist[start, end]\n",
    "            bond_type = bond.GetBondType().name\n",
    "\n",
    "            bond_type_list.append(bond_type)\n",
    "            bond_aromatic_list.append(bond.GetIsAromatic())\n",
    "            bond_conjugated_list.append(bond.GetIsConjugated())\n",
    "            bond_ring_list.append(bond.IsInRing())\n",
    "            bond_stereo_list.append(bond.GetStereo())\n",
    "            bond_dist_list.append(d)"
   ]
  },
  {
   "cell_type": "code",
   "execution_count": 8,
   "metadata": {},
   "outputs": [
    {
     "name": "stderr",
     "output_type": "stream",
     "text": [
      "/home/zinzinbin/.conda/envs/research-env/lib/python3.9/site-packages/seaborn/_decorators.py:36: FutureWarning: Pass the following variable as a keyword arg: x. From version 0.12, the only valid positional argument will be `data`, and passing other arguments without an explicit keyword will result in an error or misinterpretation.\n",
      "  warnings.warn(\n"
     ]
    },
    {
     "data": {
      "text/plain": [
       "<AxesSubplot:ylabel='count'>"
      ]
     },
     "execution_count": 8,
     "metadata": {},
     "output_type": "execute_result"
    },
    {
     "data": {
      "image/png": "[encoded data removed]",
      "text/plain": [
       "<Figure size 432x288 with 1 Axes>"
      ]
     },
     "metadata": {
      "needs_background": "light"
     },
     "output_type": "display_data"
    }
   ],
   "source": [
    "import seaborn as sns\n",
    "sns.countplot(atom_degree_list)"
   ]
  },
  {
   "cell_type": "code",
   "execution_count": 9,
   "metadata": {},
   "outputs": [
    {
     "name": "stderr",
     "output_type": "stream",
     "text": [
      "/home/zinzinbin/.conda/envs/research-env/lib/python3.9/site-packages/seaborn/_decorators.py:36: FutureWarning: Pass the following variable as a keyword arg: x. From version 0.12, the only valid positional argument will be `data`, and passing other arguments without an explicit keyword will result in an error or misinterpretation.\n",
      "  warnings.warn(\n"
     ]
    },
    {
     "data": {
      "text/plain": [
       "<AxesSubplot:ylabel='count'>"
      ]
     },
     "execution_count": 9,
     "metadata": {},
     "output_type": "execute_result"
    },
    {
     "data": {
      "image/png": "[encoded data removed]",
      "text/plain": [
       "<Figure size 432x288 with 1 Axes>"
      ]
     },
     "metadata": {
      "needs_background": "light"
     },
     "output_type": "display_data"
    }
   ],
   "source": [
    "import seaborn as sns\n",
    "sns.countplot(atom_numhs_list)"
   ]
  },
  {
   "cell_type": "code",
   "execution_count": 10,
   "metadata": {},
   "outputs": [
    {
     "name": "stderr",
     "output_type": "stream",
     "text": [
      "/home/zinzinbin/.conda/envs/research-env/lib/python3.9/site-packages/seaborn/_decorators.py:36: FutureWarning: Pass the following variable as a keyword arg: x. From version 0.12, the only valid positional argument will be `data`, and passing other arguments without an explicit keyword will result in an error or misinterpretation.\n",
      "  warnings.warn(\n"
     ]
    },
    {
     "data": {
      "text/plain": [
       "<AxesSubplot:ylabel='count'>"
      ]
     },
     "execution_count": 10,
     "metadata": {},
     "output_type": "execute_result"
    },
    {
     "data": {
      "image/png": "[encoded data removed]",
      "text/plain": [
       "<Figure size 432x288 with 1 Axes>"
      ]
     },
     "metadata": {
      "needs_background": "light"
     },
     "output_type": "display_data"
    }
   ],
   "source": [
    "import seaborn as sns\n",
    "sns.countplot(atom_hybrid_list)"
   ]
  },
  {
   "cell_type": "code",
   "execution_count": 11,
   "metadata": {},
   "outputs": [
    {
     "name": "stderr",
     "output_type": "stream",
     "text": [
      "/home/zinzinbin/.conda/envs/research-env/lib/python3.9/site-packages/seaborn/_decorators.py:36: FutureWarning: Pass the following variable as a keyword arg: x. From version 0.12, the only valid positional argument will be `data`, and passing other arguments without an explicit keyword will result in an error or misinterpretation.\n",
      "  warnings.warn(\n"
     ]
    },
    {
     "data": {
      "text/plain": [
       "<AxesSubplot:ylabel='count'>"
      ]
     },
     "execution_count": 11,
     "metadata": {},
     "output_type": "execute_result"
    },
    {
     "data": {
      "image/png": "[encoded data removed]",
      "text/plain": [
       "<Figure size 432x288 with 1 Axes>"
      ]
     },
     "metadata": {
      "needs_background": "light"
     },
     "output_type": "display_data"
    }
   ],
   "source": [
    "sns.countplot(atom_valence_list)"
   ]
  },
  {
   "cell_type": "code",
   "execution_count": 12,
   "metadata": {},
   "outputs": [
    {
     "name": "stderr",
     "output_type": "stream",
     "text": [
      "/home/zinzinbin/.conda/envs/research-env/lib/python3.9/site-packages/seaborn/_decorators.py:36: FutureWarning: Pass the following variable as a keyword arg: x. From version 0.12, the only valid positional argument will be `data`, and passing other arguments without an explicit keyword will result in an error or misinterpretation.\n",
      "  warnings.warn(\n"
     ]
    },
    {
     "data": {
      "text/plain": [
       "<AxesSubplot:ylabel='count'>"
      ]
     },
     "execution_count": 12,
     "metadata": {},
     "output_type": "execute_result"
    },
    {
     "data": {
      "image/png": "[encoded data removed]",
      "text/plain": [
       "<Figure size 432x288 with 1 Axes>"
      ]
     },
     "metadata": {
      "needs_background": "light"
     },
     "output_type": "display_data"
    }
   ],
   "source": [
    "sns.countplot(atom_degree_list)"
   ]
  },
  {
   "cell_type": "code",
   "execution_count": 14,
   "metadata": {},
   "outputs": [
    {
     "name": "stderr",
     "output_type": "stream",
     "text": [
      "/home/zinzinbin/.conda/envs/research-env/lib/python3.9/site-packages/seaborn/_decorators.py:36: FutureWarning: Pass the following variable as a keyword arg: x. From version 0.12, the only valid positional argument will be `data`, and passing other arguments without an explicit keyword will result in an error or misinterpretation.\n",
      "  warnings.warn(\n"
     ]
    },
    {
     "data": {
      "text/plain": [
       "<AxesSubplot:ylabel='count'>"
      ]
     },
     "execution_count": 14,
     "metadata": {},
     "output_type": "execute_result"
    },
    {
     "data": {
      "image/png": "[encoded data removed]",
      "text/plain": [
       "<Figure size 432x288 with 1 Axes>"
      ]
     },
     "metadata": {
      "needs_background": "light"
     },
     "output_type": "display_data"
    }
   ],
   "source": [
    "sns.countplot(atom_list)"
   ]
  },
  {
   "cell_type": "code",
   "execution_count": 15,
   "metadata": {},
   "outputs": [
    {
     "name": "stderr",
     "output_type": "stream",
     "text": [
      "/home/zinzinbin/.conda/envs/research-env/lib/python3.9/site-packages/seaborn/_decorators.py:36: FutureWarning: Pass the following variable as a keyword arg: x. From version 0.12, the only valid positional argument will be `data`, and passing other arguments without an explicit keyword will result in an error or misinterpretation.\n",
      "  warnings.warn(\n"
     ]
    },
    {
     "data": {
      "text/plain": [
       "<AxesSubplot:ylabel='count'>"
      ]
     },
     "execution_count": 15,
     "metadata": {},
     "output_type": "execute_result"
    },
    {
     "data": {
      "image/png": "[encoded data removed]",
      "text/plain": [
       "<Figure size 432x288 with 1 Axes>"
      ]
     },
     "metadata": {
      "needs_background": "light"
     },
     "output_type": "display_data"
    }
   ],
   "source": [
    "sns.countplot(bond_type_list)"
   ]
  },
  {
   "cell_type": "code",
   "execution_count": 16,
   "metadata": {},
   "outputs": [
    {
     "name": "stderr",
     "output_type": "stream",
     "text": [
      "/home/zinzinbin/.conda/envs/research-env/lib/python3.9/site-packages/seaborn/_decorators.py:36: FutureWarning: Pass the following variable as a keyword arg: x. From version 0.12, the only valid positional argument will be `data`, and passing other arguments without an explicit keyword will result in an error or misinterpretation.\n",
      "  warnings.warn(\n"
     ]
    },
    {
     "data": {
      "text/plain": [
       "<AxesSubplot:ylabel='count'>"
      ]
     },
     "execution_count": 16,
     "metadata": {},
     "output_type": "execute_result"
    },
    {
     "data": {
      "image/png": "[encoded data removed]",
      "text/plain": [
       "<Figure size 432x288 with 1 Axes>"
      ]
     },
     "metadata": {
      "needs_background": "light"
     },
     "output_type": "display_data"
    }
   ],
   "source": [
    "sns.countplot(bond_stereo_list)"
   ]
  },
  {
   "cell_type": "code",
   "execution_count": 17,
   "metadata": {},
   "outputs": [
    {
     "name": "stderr",
     "output_type": "stream",
     "text": [
      "/home/zinzinbin/.conda/envs/research-env/lib/python3.9/site-packages/seaborn/_decorators.py:36: FutureWarning: Pass the following variable as a keyword arg: x. From version 0.12, the only valid positional argument will be `data`, and passing other arguments without an explicit keyword will result in an error or misinterpretation.\n",
      "  warnings.warn(\n"
     ]
    },
    {
     "data": {
      "text/plain": [
       "<AxesSubplot:ylabel='count'>"
      ]
     },
     "execution_count": 17,
     "metadata": {},
     "output_type": "execute_result"
    },
    {
     "data": {
      "image/png": "[encoded data removed]",
      "text/plain": [
       "<Figure size 432x288 with 1 Axes>"
      ]
     },
     "metadata": {
      "needs_background": "light"
     },
     "output_type": "display_data"
    }
   ],
   "source": [
    "sns.countplot(bond_conjugated_list)"
   ]
  },
  {
   "cell_type": "code",
   "execution_count": 18,
   "metadata": {},
   "outputs": [
    {
     "name": "stderr",
     "output_type": "stream",
     "text": [
      "/home/zinzinbin/.conda/envs/research-env/lib/python3.9/site-packages/seaborn/_decorators.py:36: FutureWarning: Pass the following variable as a keyword arg: x. From version 0.12, the only valid positional argument will be `data`, and passing other arguments without an explicit keyword will result in an error or misinterpretation.\n",
      "  warnings.warn(\n"
     ]
    },
    {
     "data": {
      "text/plain": [
       "<AxesSubplot:ylabel='count'>"
      ]
     },
     "execution_count": 18,
     "metadata": {},
     "output_type": "execute_result"
    },
    {
     "data": {
      "image/png": "[encoded data removed]",
      "text/plain": [
       "<Figure size 432x288 with 1 Axes>"
      ]
     },
     "metadata": {
      "needs_background": "light"
     },
     "output_type": "display_data"
    }
   ],
   "source": [
    "sns.countplot(bond_aromatic_list)"
   ]
  },
  {
   "cell_type": "code",
   "execution_count": 19,
   "metadata": {},
   "outputs": [
    {
     "name": "stdout",
     "output_type": "stream",
     "text": [
      "atom degree :  [0 1 2 3 4 5 6]\n",
      "atom numhs :  [0 1 2 3]\n",
      "atom valence :  [0 1 2 3]\n",
      "atom aromatic :  [False  True]\n",
      "atom ring :  [False  True]\n",
      "atom charge :  [0]\n",
      "atom hybrid :  [2 3 4 5 6]\n",
      "bond type :  ['AROMATIC' 'DOUBLE' 'SINGLE' 'TRIPLE']\n",
      "bond aromatic :  [False  True]\n",
      "bond conjugated :  [False  True]\n",
      "bond ring :  [False  True]\n",
      "bond stereo :  [0 2 3]\n",
      "bond dist :  [1.]\n"
     ]
    }
   ],
   "source": [
    "import numpy as np\n",
    "atom_degree_list = np.unique(np.array(atom_degree_list))\n",
    "atom_numhs_list = np.unique(np.array(atom_numhs_list))\n",
    "atom_valence_list = np.unique(np.array(atom_valence_list))\n",
    "atom_aromatic_list = np.unique(np.array(atom_aromatic_list))\n",
    "atom_ring_list = np.unique(np.array(atom_ring_list))\n",
    "atom_charge_list = np.unique(np.array(atom_charge_list))\n",
    "atom_hybrid_list = np.unique(np.array(atom_hybrid_list))\n",
    "\n",
    "bond_type_list = np.unique(np.array(bond_type_list))\n",
    "bond_aromatic_list = np.unique(np.array(bond_aromatic_list))\n",
    "bond_conjugated_list = np.unique(np.array(bond_conjugated_list))\n",
    "bond_ring_list = np.unique(np.array(bond_ring_list))\n",
    "bond_stereo_list = np.unique(np.array(bond_stereo_list))\n",
    "bond_dist_list = np.unique(np.array(bond_dist_list))\n",
    "\n",
    "print(\"atom degree : \", atom_degree_list)\n",
    "print(\"atom numhs : \", atom_numhs_list)\n",
    "print(\"atom valence : \", atom_valence_list)\n",
    "print(\"atom aromatic : \", atom_aromatic_list)\n",
    "print(\"atom ring : \", atom_ring_list)\n",
    "print(\"atom charge : \", atom_charge_list)\n",
    "print(\"atom hybrid : \", atom_hybrid_list)\n",
    "\n",
    "print(\"bond type : \", bond_type_list)\n",
    "print(\"bond aromatic : \", bond_aromatic_list)\n",
    "print(\"bond conjugated : \", bond_conjugated_list)\n",
    "print(\"bond ring : \", bond_ring_list)\n",
    "print(\"bond stereo : \", bond_stereo_list)\n",
    "print(\"bond dist : \", bond_dist_list)"
   ]
  },
  {
   "cell_type": "code",
   "execution_count": 14,
   "metadata": {},
   "outputs": [],
   "source": [
    "total_smiles = pd.concat([train_df[['SMILES','index']] , test_df[['SMILES', 'index']]], axis = 0).reset_index(drop = True)"
   ]
  },
  {
   "cell_type": "code",
   "execution_count": 15,
   "metadata": {},
   "outputs": [],
   "source": [
    "from tqdm.auto import tqdm\n",
    "\n",
    "atom_degree_list = []\n",
    "atom_numhs_list = []\n",
    "atom_valence_list = []\n",
    "atom_aromatic_list = []\n",
    "atom_ring_list = []\n",
    "atom_charge_list = []\n",
    "atom_hybrid_list = []\n",
    "\n",
    "bond_type_list = []\n",
    "bond_aromatic_list = []\n",
    "bond_conjugated_list = []\n",
    "bond_ring_list = []\n",
    "bond_stereo_list = []\n",
    "bond_dist_list = []\n",
    "\n",
    "for smiles in total_smiles['SMILES']:\n",
    "\n",
    "    mol = Chem.MolFromSmiles(smiles)\n",
    "    adj = Chem.GetAdjacencyMatrix(mol)\n",
    "    dist = Chem.GetDistanceMatrix(mol)\n",
    "\n",
    "    for idx_i, atom in enumerate(mol.GetAtoms()):\n",
    "        atom_degree_list.append(atom.GetDegree())\n",
    "        atom_numhs_list.append(atom.GetTotalNumHs())\n",
    "        atom_valence_list.append(atom.GetImplicitValence())\n",
    "        atom_aromatic_list.append(atom.GetIsAromatic())\n",
    "        atom_ring_list.append(atom.IsInRing())\n",
    "        atom_charge_list.append(atom.GetFormalCharge())\n",
    "        atom_hybrid_list.append(atom.GetHybridization())\n",
    "\n",
    "        for bond in atom.GetBonds():\n",
    "            start = bond.GetBeginAtomIdx()\n",
    "            end = bond.GetEndAtomIdx()\n",
    "            d = dist[start, end]\n",
    "            bond_type = bond.GetBondType().name\n",
    "\n",
    "            bond_type_list.append(bond_type)\n",
    "            bond_aromatic_list.append(bond.GetIsAromatic())\n",
    "            bond_conjugated_list.append(bond.GetIsConjugated())\n",
    "            bond_ring_list.append(bond.IsInRing())\n",
    "            bond_stereo_list.append(bond.GetStereo())\n",
    "            bond_dist_list.append(d)\n",
    "\n",
    "import numpy as np\n",
    "\n",
    "atom_degree_list = np.unique(np.array(atom_degree_list))\n",
    "atom_numhs_list = np.unique(np.array(atom_numhs_list))\n",
    "atom_valence_list = np.unique(np.array(atom_valence_list))\n",
    "atom_aromatic_list = np.unique(np.array(atom_aromatic_list))\n",
    "atom_ring_list = np.unique(np.array(atom_ring_list))\n",
    "atom_charge_list = np.unique(np.array(atom_charge_list))\n",
    "atom_hybrid_list = np.unique(np.array(atom_hybrid_list))\n",
    "\n",
    "bond_type_list = np.unique(np.array(bond_type_list))\n",
    "bond_aromatic_list = np.unique(np.array(bond_aromatic_list))\n",
    "bond_conjugated_list = np.unique(np.array(bond_conjugated_list))\n",
    "bond_ring_list = np.unique(np.array(bond_ring_list))\n",
    "bond_stereo_list = np.unique(np.array(bond_stereo_list))\n",
    "bond_dist_list = np.unique(np.array(bond_dist_list))"
   ]
  },
  {
   "cell_type": "code",
   "execution_count": 16,
   "metadata": {},
   "outputs": [
    {
     "name": "stdout",
     "output_type": "stream",
     "text": [
      "atom degree :  [0 1 2 3 4 5 6]\n",
      "atom numhs :  [0 1 2 3]\n",
      "atom valence :  [0 1 2 3]\n",
      "atom aromatic :  [False  True]\n",
      "atom ring :  [False  True]\n",
      "atom charge :  [0]\n",
      "atom hybrid :  [2 3 4 5 6]\n",
      "bond type :  ['AROMATIC' 'DOUBLE' 'SINGLE' 'TRIPLE']\n",
      "bond aromatic :  [False  True]\n",
      "bond conjugated :  [False  True]\n",
      "bond ring :  [False  True]\n",
      "bond stereo :  [0 2 3]\n",
      "bond dist :  [1.]\n"
     ]
    }
   ],
   "source": [
    "print(\"atom degree : \", atom_degree_list)\n",
    "print(\"atom numhs : \", atom_numhs_list)\n",
    "print(\"atom valence : \", atom_valence_list)\n",
    "print(\"atom aromatic : \", atom_aromatic_list)\n",
    "print(\"atom ring : \", atom_ring_list)\n",
    "print(\"atom charge : \", atom_charge_list)\n",
    "print(\"atom hybrid : \", atom_hybrid_list)\n",
    "\n",
    "print(\"bond type : \", bond_type_list)\n",
    "print(\"bond aromatic : \", bond_aromatic_list)\n",
    "print(\"bond conjugated : \", bond_conjugated_list)\n",
    "print(\"bond ring : \", bond_ring_list)\n",
    "print(\"bond stereo : \", bond_stereo_list)\n",
    "print(\"bond dist : \", bond_dist_list)"
   ]
  },
  {
   "cell_type": "code",
   "execution_count": 19,
   "metadata": {},
   "outputs": [
    {
     "name": "stderr",
     "output_type": "stream",
     "text": [
      "/home/zinzinbin/.conda/envs/research-env/lib/python3.9/site-packages/seaborn/distributions.py:2619: FutureWarning: `distplot` is a deprecated function and will be removed in a future version. Please adapt your code to use either `displot` (a figure-level function with similar flexibility) or `histplot` (an axes-level function for histograms).\n",
      "  warnings.warn(msg, FutureWarning)\n"
     ]
    },
    {
     "data": {
      "image/png": "[encoded data removed]",
      "text/plain": [
       "<Figure size 432x288 with 1 Axes>"
      ]
     },
     "metadata": {
      "needs_background": "light"
     },
     "output_type": "display_data"
    }
   ],
   "source": [
    "# For bert model eda\n",
    "# checkout the frequency of the smiles character\n",
    "import matplotlib.pyplot as plt\n",
    "import seaborn as sns\n",
    "\n",
    "total_smiles['len'] = total_smiles['SMILES'].apply(lambda x : len(list(x)))\n",
    "\n",
    "plt.figure()\n",
    "sns.distplot(total_smiles['len'], hist = True, color = 'purple', axlabel = \"sequence length\")\n",
    "plt.title('sequence length distribution')\n",
    "plt.ylabel('% of records')\n",
    "plt.show()"
   ]
  },
  {
   "cell_type": "code",
   "execution_count": 20,
   "metadata": {},
   "outputs": [
    {
     "name": "stderr",
     "output_type": "stream",
     "text": [
      "/tmp/ipykernel_13358/3186602496.py:2: SettingWithCopyWarning: \n",
      "A value is trying to be set on a copy of a slice from a DataFrame\n",
      "\n",
      "See the caveats in the documentation: https://pandas.pydata.org/pandas-docs/stable/user_guide/indexing.html#returning-a-view-versus-a-copy\n",
      "  corpus['sequence'] = corpus.map(list)\n"
     ]
    },
    {
     "data": {
      "application/vnd.jupyter.widget-view+json": {
       "model_id": "d10a98703913456489565ecaf7aeb27c",
       "version_major": 2,
       "version_minor": 0
      },
      "text/plain": [
       "  0%|          | 0/18614 [00:00<?, ?it/s]"
      ]
     },
     "metadata": {},
     "output_type": "display_data"
    },
    {
     "name": "stdout",
     "output_type": "stream",
     "text": [
      "total alphabet :  39\n"
     ]
    }
   ],
   "source": [
    "corpus = total_smiles['SMILES']\n",
    "corpus['sequence'] = corpus.map(list)\n",
    "\n",
    "alphabet_list = []\n",
    "\n",
    "from tqdm.auto import tqdm\n",
    "for corpus in tqdm(corpus['sequence'].values):\n",
    "    corpus = np.unique(corpus).tolist()\n",
    "    alphabet_list.extend(corpus)\n",
    "\n",
    "alphabet_combination = np.unique(alphabet_list)\n",
    "\n",
    "print(\"total alphabet : \", len(alphabet_combination))\n",
    "\n",
    "# dictionary\n",
    "char2idx = {}\n",
    "idx2char = {}\n",
    "\n",
    "for idx, char in enumerate(alphabet_combination):\n",
    "    idx2char[idx] = char\n",
    "    char2idx[char] = idx\n",
    "\n",
    "idx2char[idx+1] = '<PAD>'\n",
    "char2idx['<PAD>'] = idx+1"
   ]
  },
  {
   "cell_type": "code",
   "execution_count": 22,
   "metadata": {},
   "outputs": [
    {
     "data": {
      "text/plain": [
       "array(['#', '%', '(', ')', '-', '.', '/', '0', '1', '2', '3', '4', '5',\n",
       "       '6', '7', '8', '9', '=', '@', 'B', 'C', 'F', 'H', 'I', 'N', 'O',\n",
       "       'P', 'S', '[', '\\\\', ']', 'c', 'i', 'l', 'n', 'o', 'p', 'r', 's'],\n",
       "      dtype='<U1')"
      ]
     },
     "execution_count": 22,
     "metadata": {},
     "output_type": "execute_result"
    }
   ],
   "source": [
    "alphabet_combination"
   ]
  }
 ],
 "metadata": {
  "kernelspec": {
   "display_name": "Python 3.9.7 ('research-env': conda)",
   "language": "python",
   "name": "python3"
  },
  "language_info": {
   "codemirror_mode": {
    "name": "ipython",
    "version": 3
   },
   "file_extension": ".py",
   "mimetype": "text/x-python",
   "name": "python",
   "nbconvert_exporter": "python",
   "pygments_lexer": "ipython3",
   "version": "3.9.7"
  },
  "orig_nbformat": 4,
  "vscode": {
   "interpreter": {
    "hash": "b7bc8097f24747f72629445db54bed151603a8d63744e142002cb75630cca553"
   }
  }
 },
 "nbformat": 4,
 "nbformat_minor": 2
}
